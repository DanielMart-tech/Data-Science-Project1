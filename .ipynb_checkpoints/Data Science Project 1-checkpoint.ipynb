{
 "cells": [
  {
   "cell_type": "markdown",
   "id": "a20e31de",
   "metadata": {},
   "source": [
    "# Data Science Project: Football Results Between 1872-2017"
   ]
  },
  {
   "cell_type": "markdown",
   "id": "bac3e35b",
   "metadata": {},
   "source": [
    "This is a statiscal analysis of football matches between 1872 and 2017\n",
    "\n",
    "Source: [Resultados de futbol entre 1872 y 2017](https://www.kaggle.com/ramnquintana/resultados-de-futbol-entre-1872-y-2017/version/1)"
   ]
  },
  {
   "cell_type": "markdown",
   "id": "3bcab003",
   "metadata": {},
   "source": [
    "#### Members:\n",
    "_____Matute\n",
    "\n",
    "Daniel Martínez"
   ]
  },
  {
   "cell_type": "code",
   "execution_count": 1,
   "id": "36223d1e",
   "metadata": {},
   "outputs": [],
   "source": [
    "import pandas as pd\n",
    "import numpy as np"
   ]
  },
  {
   "cell_type": "code",
   "execution_count": 2,
   "id": "dc09b874",
   "metadata": {
    "scrolled": true
   },
   "outputs": [
    {
     "data": {
      "text/html": [
       "<div>\n",
       "<style scoped>\n",
       "    .dataframe tbody tr th:only-of-type {\n",
       "        vertical-align: middle;\n",
       "    }\n",
       "\n",
       "    .dataframe tbody tr th {\n",
       "        vertical-align: top;\n",
       "    }\n",
       "\n",
       "    .dataframe thead th {\n",
       "        text-align: right;\n",
       "    }\n",
       "</style>\n",
       "<table border=\"1\" class=\"dataframe\">\n",
       "  <thead>\n",
       "    <tr style=\"text-align: right;\">\n",
       "      <th></th>\n",
       "      <th>date</th>\n",
       "      <th>home_team</th>\n",
       "      <th>away_team</th>\n",
       "      <th>home_score</th>\n",
       "      <th>away_score</th>\n",
       "      <th>tournament</th>\n",
       "      <th>city</th>\n",
       "      <th>country</th>\n",
       "      <th>neutral</th>\n",
       "    </tr>\n",
       "  </thead>\n",
       "  <tbody>\n",
       "    <tr>\n",
       "      <th>0</th>\n",
       "      <td>1872-11-30</td>\n",
       "      <td>Scotland</td>\n",
       "      <td>England</td>\n",
       "      <td>0</td>\n",
       "      <td>0</td>\n",
       "      <td>Friendly</td>\n",
       "      <td>Glasgow</td>\n",
       "      <td>Scotland</td>\n",
       "      <td>False</td>\n",
       "    </tr>\n",
       "    <tr>\n",
       "      <th>1</th>\n",
       "      <td>1873-03-08</td>\n",
       "      <td>England</td>\n",
       "      <td>Scotland</td>\n",
       "      <td>4</td>\n",
       "      <td>2</td>\n",
       "      <td>Friendly</td>\n",
       "      <td>London</td>\n",
       "      <td>England</td>\n",
       "      <td>False</td>\n",
       "    </tr>\n",
       "    <tr>\n",
       "      <th>2</th>\n",
       "      <td>1874-03-07</td>\n",
       "      <td>Scotland</td>\n",
       "      <td>England</td>\n",
       "      <td>2</td>\n",
       "      <td>1</td>\n",
       "      <td>Friendly</td>\n",
       "      <td>Glasgow</td>\n",
       "      <td>Scotland</td>\n",
       "      <td>False</td>\n",
       "    </tr>\n",
       "    <tr>\n",
       "      <th>3</th>\n",
       "      <td>1875-03-06</td>\n",
       "      <td>England</td>\n",
       "      <td>Scotland</td>\n",
       "      <td>2</td>\n",
       "      <td>2</td>\n",
       "      <td>Friendly</td>\n",
       "      <td>London</td>\n",
       "      <td>England</td>\n",
       "      <td>False</td>\n",
       "    </tr>\n",
       "    <tr>\n",
       "      <th>4</th>\n",
       "      <td>1876-03-04</td>\n",
       "      <td>Scotland</td>\n",
       "      <td>England</td>\n",
       "      <td>3</td>\n",
       "      <td>0</td>\n",
       "      <td>Friendly</td>\n",
       "      <td>Glasgow</td>\n",
       "      <td>Scotland</td>\n",
       "      <td>False</td>\n",
       "    </tr>\n",
       "    <tr>\n",
       "      <th>...</th>\n",
       "      <td>...</td>\n",
       "      <td>...</td>\n",
       "      <td>...</td>\n",
       "      <td>...</td>\n",
       "      <td>...</td>\n",
       "      <td>...</td>\n",
       "      <td>...</td>\n",
       "      <td>...</td>\n",
       "      <td>...</td>\n",
       "    </tr>\n",
       "    <tr>\n",
       "      <th>41238</th>\n",
       "      <td>2019-10-20</td>\n",
       "      <td>Lesotho</td>\n",
       "      <td>Zimbabwe</td>\n",
       "      <td>0</td>\n",
       "      <td>0</td>\n",
       "      <td>African Nations Championship qualifying</td>\n",
       "      <td>Lesotho</td>\n",
       "      <td>Lesotho</td>\n",
       "      <td>False</td>\n",
       "    </tr>\n",
       "    <tr>\n",
       "      <th>41239</th>\n",
       "      <td>2019-10-20</td>\n",
       "      <td>Guinea</td>\n",
       "      <td>Senegal</td>\n",
       "      <td>1</td>\n",
       "      <td>0</td>\n",
       "      <td>African Nations Championship qualifying</td>\n",
       "      <td>Conakry</td>\n",
       "      <td>Guinea</td>\n",
       "      <td>False</td>\n",
       "    </tr>\n",
       "    <tr>\n",
       "      <th>41240</th>\n",
       "      <td>2019-10-20</td>\n",
       "      <td>Mali</td>\n",
       "      <td>Mauritania</td>\n",
       "      <td>2</td>\n",
       "      <td>0</td>\n",
       "      <td>African Nations Championship qualifying</td>\n",
       "      <td>Mali</td>\n",
       "      <td>Mali</td>\n",
       "      <td>False</td>\n",
       "    </tr>\n",
       "    <tr>\n",
       "      <th>41241</th>\n",
       "      <td>2019-10-20</td>\n",
       "      <td>Burkina Faso</td>\n",
       "      <td>Ghana</td>\n",
       "      <td>0</td>\n",
       "      <td>0</td>\n",
       "      <td>African Nations Championship qualifying</td>\n",
       "      <td>Burkina Faso</td>\n",
       "      <td>Burkina Faso</td>\n",
       "      <td>False</td>\n",
       "    </tr>\n",
       "    <tr>\n",
       "      <th>41242</th>\n",
       "      <td>2019-10-20</td>\n",
       "      <td>Ivory Coast</td>\n",
       "      <td>Niger</td>\n",
       "      <td>1</td>\n",
       "      <td>0</td>\n",
       "      <td>African Nations Championship qualifying</td>\n",
       "      <td>Ivory Coast</td>\n",
       "      <td>Ivory Coast</td>\n",
       "      <td>False</td>\n",
       "    </tr>\n",
       "  </tbody>\n",
       "</table>\n",
       "<p>41243 rows × 9 columns</p>\n",
       "</div>"
      ],
      "text/plain": [
       "             date     home_team   away_team  home_score  away_score  \\\n",
       "0      1872-11-30      Scotland     England           0           0   \n",
       "1      1873-03-08       England    Scotland           4           2   \n",
       "2      1874-03-07      Scotland     England           2           1   \n",
       "3      1875-03-06       England    Scotland           2           2   \n",
       "4      1876-03-04      Scotland     England           3           0   \n",
       "...           ...           ...         ...         ...         ...   \n",
       "41238  2019-10-20       Lesotho    Zimbabwe           0           0   \n",
       "41239  2019-10-20        Guinea     Senegal           1           0   \n",
       "41240  2019-10-20          Mali  Mauritania           2           0   \n",
       "41241  2019-10-20  Burkina Faso       Ghana           0           0   \n",
       "41242  2019-10-20   Ivory Coast       Niger           1           0   \n",
       "\n",
       "                                    tournament          city       country  \\\n",
       "0                                     Friendly       Glasgow      Scotland   \n",
       "1                                     Friendly        London       England   \n",
       "2                                     Friendly       Glasgow      Scotland   \n",
       "3                                     Friendly        London       England   \n",
       "4                                     Friendly       Glasgow      Scotland   \n",
       "...                                        ...           ...           ...   \n",
       "41238  African Nations Championship qualifying       Lesotho       Lesotho   \n",
       "41239  African Nations Championship qualifying       Conakry        Guinea   \n",
       "41240  African Nations Championship qualifying          Mali          Mali   \n",
       "41241  African Nations Championship qualifying  Burkina Faso  Burkina Faso   \n",
       "41242  African Nations Championship qualifying   Ivory Coast   Ivory Coast   \n",
       "\n",
       "       neutral  \n",
       "0        False  \n",
       "1        False  \n",
       "2        False  \n",
       "3        False  \n",
       "4        False  \n",
       "...        ...  \n",
       "41238    False  \n",
       "41239    False  \n",
       "41240    False  \n",
       "41241    False  \n",
       "41242    False  \n",
       "\n",
       "[41243 rows x 9 columns]"
      ]
     },
     "execution_count": 2,
     "metadata": {},
     "output_type": "execute_result"
    }
   ],
   "source": [
    "football_data = pd.read_csv(\"results.csv\")\n",
    "football_data"
   ]
  },
  {
   "cell_type": "code",
   "execution_count": 3,
   "id": "cbebedef",
   "metadata": {
    "scrolled": false
   },
   "outputs": [
    {
     "data": {
      "text/plain": [
       "0        0\n",
       "1        4\n",
       "2        2\n",
       "3        2\n",
       "4        3\n",
       "        ..\n",
       "41238    0\n",
       "41239    1\n",
       "41240    2\n",
       "41241    0\n",
       "41242    1\n",
       "Name: home_score, Length: 41243, dtype: int64"
      ]
     },
     "execution_count": 3,
     "metadata": {},
     "output_type": "execute_result"
    }
   ],
   "source": [
    "football_data[\"home_score\"]"
   ]
  },
  {
   "cell_type": "code",
   "execution_count": 4,
   "id": "ac1a9409",
   "metadata": {},
   "outputs": [
    {
     "data": {
      "text/plain": [
       "0        0\n",
       "1        2\n",
       "2        1\n",
       "3        2\n",
       "4        0\n",
       "        ..\n",
       "41238    0\n",
       "41239    0\n",
       "41240    0\n",
       "41241    0\n",
       "41242    0\n",
       "Name: away_score, Length: 41243, dtype: int64"
      ]
     },
     "execution_count": 4,
     "metadata": {},
     "output_type": "execute_result"
    }
   ],
   "source": [
    "football_data[\"away_score\"]"
   ]
  },
  {
   "cell_type": "code",
   "execution_count": 5,
   "id": "21584968",
   "metadata": {},
   "outputs": [
    {
     "name": "stdout",
     "output_type": "stream",
     "text": [
      "[0 4 2 ... 2 0 1]\n"
     ]
    }
   ],
   "source": [
    "home = np.array(football_data[\"home_score\"])\n",
    "print(home)"
   ]
  },
  {
   "cell_type": "code",
   "execution_count": 6,
   "id": "d023c409",
   "metadata": {},
   "outputs": [
    {
     "name": "stdout",
     "output_type": "stream",
     "text": [
      "[0 2 1 ... 0 0 0]\n"
     ]
    }
   ],
   "source": [
    "away = np.array(football_data[\"away_score\"])\n",
    "print(away)"
   ]
  },
  {
   "cell_type": "markdown",
   "id": "7128629e",
   "metadata": {},
   "source": [
    "### Mean"
   ]
  },
  {
   "cell_type": "markdown",
   "id": "9f2b7546",
   "metadata": {},
   "source": [
    "#### Home Score Mean"
   ]
  },
  {
   "cell_type": "code",
   "execution_count": 7,
   "id": "ac341d42",
   "metadata": {
    "scrolled": true
   },
   "outputs": [
    {
     "data": {
      "text/plain": [
       "1.744974904832335"
      ]
     },
     "execution_count": 7,
     "metadata": {},
     "output_type": "execute_result"
    }
   ],
   "source": [
    "home_mean = np.mean(home)\n",
    "home_mean"
   ]
  },
  {
   "cell_type": "markdown",
   "id": "3ba53705",
   "metadata": {},
   "source": [
    "#### Away Score Mean"
   ]
  },
  {
   "cell_type": "code",
   "execution_count": 8,
   "id": "ecb181bd",
   "metadata": {},
   "outputs": [
    {
     "data": {
      "text/plain": [
       "1.1893169750018184"
      ]
     },
     "execution_count": 8,
     "metadata": {},
     "output_type": "execute_result"
    }
   ],
   "source": [
    "away_mean = np.mean(away)\n",
    "away_mean"
   ]
  },
  {
   "cell_type": "markdown",
   "id": "1819ea74",
   "metadata": {},
   "source": [
    "### Median"
   ]
  },
  {
   "cell_type": "markdown",
   "id": "aa3c93c2",
   "metadata": {},
   "source": [
    "#### Home Score Median"
   ]
  },
  {
   "cell_type": "code",
   "execution_count": 9,
   "id": "5e08e0d5",
   "metadata": {},
   "outputs": [
    {
     "data": {
      "text/plain": [
       "1.0"
      ]
     },
     "execution_count": 9,
     "metadata": {},
     "output_type": "execute_result"
    }
   ],
   "source": [
    "home_median = np.median(home)\n",
    "home_median"
   ]
  },
  {
   "cell_type": "markdown",
   "id": "527a1c0e",
   "metadata": {},
   "source": [
    "#### Away Score Median"
   ]
  },
  {
   "cell_type": "code",
   "execution_count": 10,
   "id": "a219518f",
   "metadata": {},
   "outputs": [
    {
     "data": {
      "text/plain": [
       "1.0"
      ]
     },
     "execution_count": 10,
     "metadata": {},
     "output_type": "execute_result"
    }
   ],
   "source": [
    "away_median = np.median(away)\n",
    "away_median"
   ]
  },
  {
   "cell_type": "markdown",
   "id": "ac03a8ef",
   "metadata": {},
   "source": [
    "### Mode"
   ]
  },
  {
   "cell_type": "markdown",
   "id": "84243aed",
   "metadata": {},
   "source": [
    "#### Home Score Mode"
   ]
  },
  {
   "cell_type": "markdown",
   "id": "2f3ed188",
   "metadata": {},
   "source": [
    "#### Away Score Mode"
   ]
  },
  {
   "cell_type": "markdown",
   "id": "54a21328",
   "metadata": {},
   "source": [
    "#### ideas"
   ]
  },
  {
   "cell_type": "code",
   "execution_count": 11,
   "id": "15ae8870",
   "metadata": {
    "scrolled": true
   },
   "outputs": [
    {
     "data": {
      "text/html": [
       "<div>\n",
       "<style scoped>\n",
       "    .dataframe tbody tr th:only-of-type {\n",
       "        vertical-align: middle;\n",
       "    }\n",
       "\n",
       "    .dataframe tbody tr th {\n",
       "        vertical-align: top;\n",
       "    }\n",
       "\n",
       "    .dataframe thead th {\n",
       "        text-align: right;\n",
       "    }\n",
       "</style>\n",
       "<table border=\"1\" class=\"dataframe\">\n",
       "  <thead>\n",
       "    <tr style=\"text-align: right;\">\n",
       "      <th></th>\n",
       "      <th>home_team</th>\n",
       "      <th>home_score</th>\n",
       "    </tr>\n",
       "  </thead>\n",
       "  <tbody>\n",
       "    <tr>\n",
       "      <th>0</th>\n",
       "      <td>Scotland</td>\n",
       "      <td>0</td>\n",
       "    </tr>\n",
       "    <tr>\n",
       "      <th>1</th>\n",
       "      <td>England</td>\n",
       "      <td>4</td>\n",
       "    </tr>\n",
       "    <tr>\n",
       "      <th>2</th>\n",
       "      <td>Scotland</td>\n",
       "      <td>2</td>\n",
       "    </tr>\n",
       "    <tr>\n",
       "      <th>3</th>\n",
       "      <td>England</td>\n",
       "      <td>2</td>\n",
       "    </tr>\n",
       "    <tr>\n",
       "      <th>4</th>\n",
       "      <td>Scotland</td>\n",
       "      <td>3</td>\n",
       "    </tr>\n",
       "    <tr>\n",
       "      <th>...</th>\n",
       "      <td>...</td>\n",
       "      <td>...</td>\n",
       "    </tr>\n",
       "    <tr>\n",
       "      <th>41238</th>\n",
       "      <td>Lesotho</td>\n",
       "      <td>0</td>\n",
       "    </tr>\n",
       "    <tr>\n",
       "      <th>41239</th>\n",
       "      <td>Guinea</td>\n",
       "      <td>1</td>\n",
       "    </tr>\n",
       "    <tr>\n",
       "      <th>41240</th>\n",
       "      <td>Mali</td>\n",
       "      <td>2</td>\n",
       "    </tr>\n",
       "    <tr>\n",
       "      <th>41241</th>\n",
       "      <td>Burkina Faso</td>\n",
       "      <td>0</td>\n",
       "    </tr>\n",
       "    <tr>\n",
       "      <th>41242</th>\n",
       "      <td>Ivory Coast</td>\n",
       "      <td>1</td>\n",
       "    </tr>\n",
       "  </tbody>\n",
       "</table>\n",
       "<p>41243 rows × 2 columns</p>\n",
       "</div>"
      ],
      "text/plain": [
       "          home_team  home_score\n",
       "0          Scotland           0\n",
       "1           England           4\n",
       "2          Scotland           2\n",
       "3           England           2\n",
       "4          Scotland           3\n",
       "...             ...         ...\n",
       "41238       Lesotho           0\n",
       "41239        Guinea           1\n",
       "41240          Mali           2\n",
       "41241  Burkina Faso           0\n",
       "41242   Ivory Coast           1\n",
       "\n",
       "[41243 rows x 2 columns]"
      ]
     },
     "execution_count": 11,
     "metadata": {},
     "output_type": "execute_result"
    }
   ],
   "source": [
    "football_data[[\"home_team\",\"home_score\"]]"
   ]
  },
  {
   "cell_type": "markdown",
   "id": "8f4e7b2c",
   "metadata": {},
   "source": [
    "mayor puntaje = equipo visitante y local\n",
    "\n",
    "media del home_score y del away_score\n",
    "\n",
    "mediana del home_score y del away_score\n",
    "\n",
    "moda del home_score y del away_score\n",
    "\n",
    "buscar info 1872 y 2017"
   ]
  },
  {
   "cell_type": "code",
   "execution_count": 12,
   "id": "08f766f9",
   "metadata": {},
   "outputs": [
    {
     "ename": "NameError",
     "evalue": "name 'data_frame' is not defined",
     "output_type": "error",
     "traceback": [
      "\u001b[0;31m---------------------------------------------------------------------------\u001b[0m",
      "\u001b[0;31mNameError\u001b[0m                                 Traceback (most recent call last)",
      "Input \u001b[0;32mIn [12]\u001b[0m, in \u001b[0;36m<module>\u001b[0;34m\u001b[0m\n\u001b[0;32m----> 1\u001b[0m data_frame[\u001b[38;5;124m'\u001b[39m\u001b[38;5;124mpuntaje_total\u001b[39m\u001b[38;5;124m'\u001b[39m] \u001b[38;5;241m=\u001b[39m (\u001b[43mdata_frame\u001b[49m[\u001b[38;5;124m'\u001b[39m\u001b[38;5;124mnum_sequences\u001b[39m\u001b[38;5;124m'\u001b[39m] \u001b[38;5;241m/\u001b[39m data_frame[\u001b[38;5;124m'\u001b[39m\u001b[38;5;124mnum_sequences_total\u001b[39m\u001b[38;5;124m'\u001b[39m]) \u001b[38;5;241m*\u001b[39m \u001b[38;5;241m100\u001b[39m\n",
      "\u001b[0;31mNameError\u001b[0m: name 'data_frame' is not defined"
     ]
    }
   ],
   "source": [
    "data_frame['puntaje_total'] = (data_frame['num_sequences'] / data_frame['num_sequences_total']) * 100\n"
   ]
  }
 ],
 "metadata": {
  "kernelspec": {
   "display_name": "Python 3 (ipykernel)",
   "language": "python",
   "name": "python3"
  },
  "language_info": {
   "codemirror_mode": {
    "name": "ipython",
    "version": 3
   },
   "file_extension": ".py",
   "mimetype": "text/x-python",
   "name": "python",
   "nbconvert_exporter": "python",
   "pygments_lexer": "ipython3",
   "version": "3.10.2"
  }
 },
 "nbformat": 4,
 "nbformat_minor": 5
}
