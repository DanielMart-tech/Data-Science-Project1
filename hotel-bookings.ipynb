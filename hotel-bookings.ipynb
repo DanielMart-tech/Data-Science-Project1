{
 "cells": [
  {
   "cell_type": "code",
   "execution_count": 1,
   "id": "032d1212",
   "metadata": {
    "_cell_guid": "b1076dfc-b9ad-4769-8c92-a6c4dae69d19",
    "_uuid": "8f2839f25d086af736a60e9eeb907d3b93b6e0e5",
    "execution": {
     "iopub.execute_input": "2024-06-21T16:02:35.972403Z",
     "iopub.status.busy": "2024-06-21T16:02:35.971510Z",
     "iopub.status.idle": "2024-06-21T16:02:39.456253Z",
     "shell.execute_reply": "2024-06-21T16:02:39.454919Z"
    },
    "papermill": {
     "duration": 3.492484,
     "end_time": "2024-06-21T16:02:39.458829",
     "exception": false,
     "start_time": "2024-06-21T16:02:35.966345",
     "status": "completed"
    },
    "tags": []
   },
   "outputs": [
    {
     "name": "stdout",
     "output_type": "stream",
     "text": [
      "/kaggle/input/hotel-booking-demand/hotel_bookings.csv\n"
     ]
    }
   ],
   "source": [
    "# This Python 3 environment comes with many helpful analytics libraries installed\n",
    "# It is defined by the kaggle/python Docker image: https://github.com/kaggle/docker-python\n",
    "# For example, here's several helpful packages to load\n",
    "\n",
    "import numpy as np # linear algebra\n",
    "import pandas as pd # data processing, CSV file I/O (e.g. pd.read_csv)\n",
    "import re\n",
    "import seaborn as sns\n",
    "import matplotlib.pyplot as plt\n",
    "import plotly.express as px\n",
    "from scipy.stats import skew, kurtosis\n",
    "from sklearn.impute import KNNImputer\n",
    "\n",
    "# Input data files are available in the read-only \"../input/\" directory\n",
    "# For example, running this (by clicking run or pressing Shift+Enter) will list all files under the input directory\n",
    "\n",
    "import os\n",
    "for dirname, _, filenames in os.walk('/kaggle/input'):\n",
    "    for filename in filenames:\n",
    "        print(os.path.join(dirname, filename))\n",
    "\n",
    "# You can write up to 20GB to the current directory (/kaggle/working/) that gets preserved as output when you create a version using \"Save & Run All\" \n",
    "# You can also write temporary files to /kaggle/temp/, but they won't be saved outside of the current session"
   ]
  },
  {
   "cell_type": "code",
   "execution_count": 2,
   "id": "1e795aba",
   "metadata": {
    "execution": {
     "iopub.execute_input": "2024-06-21T16:02:39.470808Z",
     "iopub.status.busy": "2024-06-21T16:02:39.469297Z",
     "iopub.status.idle": "2024-06-21T16:02:39.475447Z",
     "shell.execute_reply": "2024-06-21T16:02:39.474082Z"
    },
    "papermill": {
     "duration": 0.014413,
     "end_time": "2024-06-21T16:02:39.479205",
     "exception": false,
     "start_time": "2024-06-21T16:02:39.464792",
     "status": "completed"
    },
    "tags": []
   },
   "outputs": [],
   "source": [
    "pd.set_option('display.max_columns', None)"
   ]
  },
  {
   "cell_type": "code",
   "execution_count": 3,
   "id": "c7dff803",
   "metadata": {
    "execution": {
     "iopub.execute_input": "2024-06-21T16:02:39.488434Z",
     "iopub.status.busy": "2024-06-21T16:02:39.488013Z",
     "iopub.status.idle": "2024-06-21T16:02:40.163653Z",
     "shell.execute_reply": "2024-06-21T16:02:40.162598Z"
    },
    "papermill": {
     "duration": 0.682241,
     "end_time": "2024-06-21T16:02:40.165822",
     "exception": false,
     "start_time": "2024-06-21T16:02:39.483581",
     "status": "completed"
    },
    "tags": []
   },
   "outputs": [
    {
     "data": {
      "text/html": [
       "<div>\n",
       "<style scoped>\n",
       "    .dataframe tbody tr th:only-of-type {\n",
       "        vertical-align: middle;\n",
       "    }\n",
       "\n",
       "    .dataframe tbody tr th {\n",
       "        vertical-align: top;\n",
       "    }\n",
       "\n",
       "    .dataframe thead th {\n",
       "        text-align: right;\n",
       "    }\n",
       "</style>\n",
       "<table border=\"1\" class=\"dataframe\">\n",
       "  <thead>\n",
       "    <tr style=\"text-align: right;\">\n",
       "      <th></th>\n",
       "      <th>hotel</th>\n",
       "      <th>is_canceled</th>\n",
       "      <th>lead_time</th>\n",
       "      <th>arrival_date_year</th>\n",
       "      <th>arrival_date_month</th>\n",
       "      <th>arrival_date_week_number</th>\n",
       "      <th>arrival_date_day_of_month</th>\n",
       "      <th>stays_in_weekend_nights</th>\n",
       "      <th>stays_in_week_nights</th>\n",
       "      <th>adults</th>\n",
       "      <th>children</th>\n",
       "      <th>babies</th>\n",
       "      <th>meal</th>\n",
       "      <th>country</th>\n",
       "      <th>market_segment</th>\n",
       "      <th>distribution_channel</th>\n",
       "      <th>is_repeated_guest</th>\n",
       "      <th>previous_cancellations</th>\n",
       "      <th>previous_bookings_not_canceled</th>\n",
       "      <th>reserved_room_type</th>\n",
       "      <th>assigned_room_type</th>\n",
       "      <th>booking_changes</th>\n",
       "      <th>deposit_type</th>\n",
       "      <th>agent</th>\n",
       "      <th>company</th>\n",
       "      <th>days_in_waiting_list</th>\n",
       "      <th>customer_type</th>\n",
       "      <th>adr</th>\n",
       "      <th>required_car_parking_spaces</th>\n",
       "      <th>total_of_special_requests</th>\n",
       "      <th>reservation_status</th>\n",
       "      <th>reservation_status_date</th>\n",
       "    </tr>\n",
       "  </thead>\n",
       "  <tbody>\n",
       "    <tr>\n",
       "      <th>0</th>\n",
       "      <td>Resort Hotel</td>\n",
       "      <td>0</td>\n",
       "      <td>342</td>\n",
       "      <td>2015</td>\n",
       "      <td>July</td>\n",
       "      <td>27</td>\n",
       "      <td>1</td>\n",
       "      <td>0</td>\n",
       "      <td>0</td>\n",
       "      <td>2</td>\n",
       "      <td>0.0</td>\n",
       "      <td>0</td>\n",
       "      <td>BB</td>\n",
       "      <td>PRT</td>\n",
       "      <td>Direct</td>\n",
       "      <td>Direct</td>\n",
       "      <td>0</td>\n",
       "      <td>0</td>\n",
       "      <td>0</td>\n",
       "      <td>C</td>\n",
       "      <td>C</td>\n",
       "      <td>3</td>\n",
       "      <td>No Deposit</td>\n",
       "      <td>NaN</td>\n",
       "      <td>NaN</td>\n",
       "      <td>0</td>\n",
       "      <td>Transient</td>\n",
       "      <td>0.0</td>\n",
       "      <td>0</td>\n",
       "      <td>0</td>\n",
       "      <td>Check-Out</td>\n",
       "      <td>2015-07-01</td>\n",
       "    </tr>\n",
       "    <tr>\n",
       "      <th>1</th>\n",
       "      <td>Resort Hotel</td>\n",
       "      <td>0</td>\n",
       "      <td>737</td>\n",
       "      <td>2015</td>\n",
       "      <td>July</td>\n",
       "      <td>27</td>\n",
       "      <td>1</td>\n",
       "      <td>0</td>\n",
       "      <td>0</td>\n",
       "      <td>2</td>\n",
       "      <td>0.0</td>\n",
       "      <td>0</td>\n",
       "      <td>BB</td>\n",
       "      <td>PRT</td>\n",
       "      <td>Direct</td>\n",
       "      <td>Direct</td>\n",
       "      <td>0</td>\n",
       "      <td>0</td>\n",
       "      <td>0</td>\n",
       "      <td>C</td>\n",
       "      <td>C</td>\n",
       "      <td>4</td>\n",
       "      <td>No Deposit</td>\n",
       "      <td>NaN</td>\n",
       "      <td>NaN</td>\n",
       "      <td>0</td>\n",
       "      <td>Transient</td>\n",
       "      <td>0.0</td>\n",
       "      <td>0</td>\n",
       "      <td>0</td>\n",
       "      <td>Check-Out</td>\n",
       "      <td>2015-07-01</td>\n",
       "    </tr>\n",
       "    <tr>\n",
       "      <th>2</th>\n",
       "      <td>Resort Hotel</td>\n",
       "      <td>0</td>\n",
       "      <td>7</td>\n",
       "      <td>2015</td>\n",
       "      <td>July</td>\n",
       "      <td>27</td>\n",
       "      <td>1</td>\n",
       "      <td>0</td>\n",
       "      <td>1</td>\n",
       "      <td>1</td>\n",
       "      <td>0.0</td>\n",
       "      <td>0</td>\n",
       "      <td>BB</td>\n",
       "      <td>GBR</td>\n",
       "      <td>Direct</td>\n",
       "      <td>Direct</td>\n",
       "      <td>0</td>\n",
       "      <td>0</td>\n",
       "      <td>0</td>\n",
       "      <td>A</td>\n",
       "      <td>C</td>\n",
       "      <td>0</td>\n",
       "      <td>No Deposit</td>\n",
       "      <td>NaN</td>\n",
       "      <td>NaN</td>\n",
       "      <td>0</td>\n",
       "      <td>Transient</td>\n",
       "      <td>75.0</td>\n",
       "      <td>0</td>\n",
       "      <td>0</td>\n",
       "      <td>Check-Out</td>\n",
       "      <td>2015-07-02</td>\n",
       "    </tr>\n",
       "    <tr>\n",
       "      <th>3</th>\n",
       "      <td>Resort Hotel</td>\n",
       "      <td>0</td>\n",
       "      <td>13</td>\n",
       "      <td>2015</td>\n",
       "      <td>July</td>\n",
       "      <td>27</td>\n",
       "      <td>1</td>\n",
       "      <td>0</td>\n",
       "      <td>1</td>\n",
       "      <td>1</td>\n",
       "      <td>0.0</td>\n",
       "      <td>0</td>\n",
       "      <td>BB</td>\n",
       "      <td>GBR</td>\n",
       "      <td>Corporate</td>\n",
       "      <td>Corporate</td>\n",
       "      <td>0</td>\n",
       "      <td>0</td>\n",
       "      <td>0</td>\n",
       "      <td>A</td>\n",
       "      <td>A</td>\n",
       "      <td>0</td>\n",
       "      <td>No Deposit</td>\n",
       "      <td>304.0</td>\n",
       "      <td>NaN</td>\n",
       "      <td>0</td>\n",
       "      <td>Transient</td>\n",
       "      <td>75.0</td>\n",
       "      <td>0</td>\n",
       "      <td>0</td>\n",
       "      <td>Check-Out</td>\n",
       "      <td>2015-07-02</td>\n",
       "    </tr>\n",
       "    <tr>\n",
       "      <th>4</th>\n",
       "      <td>Resort Hotel</td>\n",
       "      <td>0</td>\n",
       "      <td>14</td>\n",
       "      <td>2015</td>\n",
       "      <td>July</td>\n",
       "      <td>27</td>\n",
       "      <td>1</td>\n",
       "      <td>0</td>\n",
       "      <td>2</td>\n",
       "      <td>2</td>\n",
       "      <td>0.0</td>\n",
       "      <td>0</td>\n",
       "      <td>BB</td>\n",
       "      <td>GBR</td>\n",
       "      <td>Online TA</td>\n",
       "      <td>TA/TO</td>\n",
       "      <td>0</td>\n",
       "      <td>0</td>\n",
       "      <td>0</td>\n",
       "      <td>A</td>\n",
       "      <td>A</td>\n",
       "      <td>0</td>\n",
       "      <td>No Deposit</td>\n",
       "      <td>240.0</td>\n",
       "      <td>NaN</td>\n",
       "      <td>0</td>\n",
       "      <td>Transient</td>\n",
       "      <td>98.0</td>\n",
       "      <td>0</td>\n",
       "      <td>1</td>\n",
       "      <td>Check-Out</td>\n",
       "      <td>2015-07-03</td>\n",
       "    </tr>\n",
       "  </tbody>\n",
       "</table>\n",
       "</div>"
      ],
      "text/plain": [
       "          hotel  is_canceled  lead_time  arrival_date_year arrival_date_month  \\\n",
       "0  Resort Hotel            0        342               2015               July   \n",
       "1  Resort Hotel            0        737               2015               July   \n",
       "2  Resort Hotel            0          7               2015               July   \n",
       "3  Resort Hotel            0         13               2015               July   \n",
       "4  Resort Hotel            0         14               2015               July   \n",
       "\n",
       "   arrival_date_week_number  arrival_date_day_of_month  \\\n",
       "0                        27                          1   \n",
       "1                        27                          1   \n",
       "2                        27                          1   \n",
       "3                        27                          1   \n",
       "4                        27                          1   \n",
       "\n",
       "   stays_in_weekend_nights  stays_in_week_nights  adults  children  babies  \\\n",
       "0                        0                     0       2       0.0       0   \n",
       "1                        0                     0       2       0.0       0   \n",
       "2                        0                     1       1       0.0       0   \n",
       "3                        0                     1       1       0.0       0   \n",
       "4                        0                     2       2       0.0       0   \n",
       "\n",
       "  meal country market_segment distribution_channel  is_repeated_guest  \\\n",
       "0   BB     PRT         Direct               Direct                  0   \n",
       "1   BB     PRT         Direct               Direct                  0   \n",
       "2   BB     GBR         Direct               Direct                  0   \n",
       "3   BB     GBR      Corporate            Corporate                  0   \n",
       "4   BB     GBR      Online TA                TA/TO                  0   \n",
       "\n",
       "   previous_cancellations  previous_bookings_not_canceled reserved_room_type  \\\n",
       "0                       0                               0                  C   \n",
       "1                       0                               0                  C   \n",
       "2                       0                               0                  A   \n",
       "3                       0                               0                  A   \n",
       "4                       0                               0                  A   \n",
       "\n",
       "  assigned_room_type  booking_changes deposit_type  agent  company  \\\n",
       "0                  C                3   No Deposit    NaN      NaN   \n",
       "1                  C                4   No Deposit    NaN      NaN   \n",
       "2                  C                0   No Deposit    NaN      NaN   \n",
       "3                  A                0   No Deposit  304.0      NaN   \n",
       "4                  A                0   No Deposit  240.0      NaN   \n",
       "\n",
       "   days_in_waiting_list customer_type   adr  required_car_parking_spaces  \\\n",
       "0                     0     Transient   0.0                            0   \n",
       "1                     0     Transient   0.0                            0   \n",
       "2                     0     Transient  75.0                            0   \n",
       "3                     0     Transient  75.0                            0   \n",
       "4                     0     Transient  98.0                            0   \n",
       "\n",
       "   total_of_special_requests reservation_status reservation_status_date  \n",
       "0                          0          Check-Out              2015-07-01  \n",
       "1                          0          Check-Out              2015-07-01  \n",
       "2                          0          Check-Out              2015-07-02  \n",
       "3                          0          Check-Out              2015-07-02  \n",
       "4                          1          Check-Out              2015-07-03  "
      ]
     },
     "execution_count": 3,
     "metadata": {},
     "output_type": "execute_result"
    }
   ],
   "source": [
    "df_booking_hotels = pd.read_csv('../input/hotel-booking-demand/hotel_bookings.csv')\n",
    "df_booking_hotels.head()"
   ]
  },
  {
   "cell_type": "code",
   "execution_count": 4,
   "id": "000b148a",
   "metadata": {
    "execution": {
     "iopub.execute_input": "2024-06-21T16:02:40.174362Z",
     "iopub.status.busy": "2024-06-21T16:02:40.173484Z",
     "iopub.status.idle": "2024-06-21T16:02:40.178873Z",
     "shell.execute_reply": "2024-06-21T16:02:40.177877Z"
    },
    "papermill": {
     "duration": 0.011808,
     "end_time": "2024-06-21T16:02:40.180954",
     "exception": false,
     "start_time": "2024-06-21T16:02:40.169146",
     "status": "completed"
    },
    "tags": []
   },
   "outputs": [
    {
     "name": "stdout",
     "output_type": "stream",
     "text": [
      "This dataset has 119390 rows and 32 columns\n"
     ]
    }
   ],
   "source": [
    "print(f\"This dataset has {df_booking_hotels.shape[0]} rows and {df_booking_hotels.shape[1]} columns\")"
   ]
  },
  {
   "cell_type": "code",
   "execution_count": 5,
   "id": "ee12cb74",
   "metadata": {
    "execution": {
     "iopub.execute_input": "2024-06-21T16:02:40.189162Z",
     "iopub.status.busy": "2024-06-21T16:02:40.188821Z",
     "iopub.status.idle": "2024-06-21T16:02:40.279921Z",
     "shell.execute_reply": "2024-06-21T16:02:40.278835Z"
    },
    "papermill": {
     "duration": 0.098114,
     "end_time": "2024-06-21T16:02:40.282547",
     "exception": false,
     "start_time": "2024-06-21T16:02:40.184433",
     "status": "completed"
    },
    "tags": []
   },
   "outputs": [
    {
     "name": "stdout",
     "output_type": "stream",
     "text": [
      "<class 'pandas.core.frame.DataFrame'>\n",
      "RangeIndex: 119390 entries, 0 to 119389\n",
      "Data columns (total 32 columns):\n",
      " #   Column                          Non-Null Count   Dtype  \n",
      "---  ------                          --------------   -----  \n",
      " 0   hotel                           119390 non-null  object \n",
      " 1   is_canceled                     119390 non-null  int64  \n",
      " 2   lead_time                       119390 non-null  int64  \n",
      " 3   arrival_date_year               119390 non-null  int64  \n",
      " 4   arrival_date_month              119390 non-null  object \n",
      " 5   arrival_date_week_number        119390 non-null  int64  \n",
      " 6   arrival_date_day_of_month       119390 non-null  int64  \n",
      " 7   stays_in_weekend_nights         119390 non-null  int64  \n",
      " 8   stays_in_week_nights            119390 non-null  int64  \n",
      " 9   adults                          119390 non-null  int64  \n",
      " 10  children                        119386 non-null  float64\n",
      " 11  babies                          119390 non-null  int64  \n",
      " 12  meal                            119390 non-null  object \n",
      " 13  country                         118902 non-null  object \n",
      " 14  market_segment                  119390 non-null  object \n",
      " 15  distribution_channel            119390 non-null  object \n",
      " 16  is_repeated_guest               119390 non-null  int64  \n",
      " 17  previous_cancellations          119390 non-null  int64  \n",
      " 18  previous_bookings_not_canceled  119390 non-null  int64  \n",
      " 19  reserved_room_type              119390 non-null  object \n",
      " 20  assigned_room_type              119390 non-null  object \n",
      " 21  booking_changes                 119390 non-null  int64  \n",
      " 22  deposit_type                    119390 non-null  object \n",
      " 23  agent                           103050 non-null  float64\n",
      " 24  company                         6797 non-null    float64\n",
      " 25  days_in_waiting_list            119390 non-null  int64  \n",
      " 26  customer_type                   119390 non-null  object \n",
      " 27  adr                             119390 non-null  float64\n",
      " 28  required_car_parking_spaces     119390 non-null  int64  \n",
      " 29  total_of_special_requests       119390 non-null  int64  \n",
      " 30  reservation_status              119390 non-null  object \n",
      " 31  reservation_status_date         119390 non-null  object \n",
      "dtypes: float64(4), int64(16), object(12)\n",
      "memory usage: 29.1+ MB\n"
     ]
    }
   ],
   "source": [
    "df_booking_hotels.info()"
   ]
  },
  {
   "cell_type": "markdown",
   "id": "ac6c49d0",
   "metadata": {
    "papermill": {
     "duration": 0.003181,
     "end_time": "2024-06-21T16:02:40.289290",
     "exception": false,
     "start_time": "2024-06-21T16:02:40.286109",
     "status": "completed"
    },
    "tags": []
   },
   "source": [
    "\n",
    "El dataset proporciona información sobre reservas de hoteles y contiene las siguientes variables:\n",
    "\n",
    "1. **hotel**: Categórica. Tipo de hotel reservado (resort hotel o city hotel). La mayoría de las reservas son para hoteles de la ciudad (City Hotel: 79,330 registros) en comparación con los resorts (Resort Hotel: 40,060 registros).\n",
    "\n",
    "2. **is_canceled**: Numérica. Indica si la reserva fue cancelada (1) o no (0).\n",
    "\n",
    "3. **lead_time**: Numérica. Número de días entre la fecha de reserva y la fecha de llegada.\n",
    "\n",
    "4. **arrival_date_year**: Numérica. Año de llegada.\n",
    "\n",
    "5. **arrival_date_month**: Categórica. Mes de llegada. La mayoría de las reservas se realizan en agosto (13,877 registros), julio (12,661 registros) y mayo (11,791 registros). Los meses con menos reservas son enero (5,929 registros), diciembre (6,780 registros) y noviembre (6,794 registros).\n",
    "\n",
    "6. **arrival_date_week_number**: Numérica. Número de la semana del año de llegada.\n",
    "\n",
    "7. **arrival_date_day_of_month**: Numérica. Día del mes de llegada.\n",
    "\n",
    "8. **stays_in_weekend_nights**: Numérica. Número de noches de fin de semana.\n",
    "\n",
    "9. **stays_in_week_nights**: Numérica. Número de noches entre semana.\n",
    "\n",
    "10. **adults**: Numérica. Número de adultos.\n",
    "\n",
    "11. **children**: Numérica. Número de niños.\n",
    "\n",
    "12. **babies**: Numérica. Número de bebés.\n",
    "\n",
    "13. **meal**: Categórica. Tipo de comida reservada. La mayoría de las reservas se realizaron con alojamiento y desayuno (BB: 92,310 registros).\n",
    "\n",
    "14. **country**: Categórica. País de origen del huésped. La mayoría de los huéspedes provienen de Portugal (PRT: 48,590 registros), seguido del Reino Unido (GBR: 12,129 registros) y Francia (FRA: 10,415 registros).\n",
    "\n",
    "15. **market_segment**: Categórica. Segmento de mercado de la reserva. La mayoría de las reservas provienen de agencias de viajes en línea (Online TA: 56,477 registros).\n",
    "\n",
    "16. **distribution_channel**: Categórica. Canal de distribución de la reserva. La mayoría de las reservas se realizaron a través de agencias de viajes/touroperadores (TA/TO: 97,870 registros).\n",
    "\n",
    "17. **is_repeated_guest**: Numérica. Indica si el huésped es un cliente repetido (1) o no (0).\n",
    "\n",
    "18. **previous_cancellations**: Numérica. Número de cancelaciones previas por el cliente.\n",
    "\n",
    "19. **previous_bookings_not_canceled**: Numérica. Número de reservas previas no canceladas por el cliente.\n",
    "\n",
    "20. **reserved_room_type**: Categórica. Tipo de habitación reservada.\n",
    "\n",
    "21. **assigned_room_type**: Categórica. Tipo de habitación asignada.\n",
    "\n",
    "22. **booking_changes**: Numérica. Número de cambios realizados en la reserva.\n",
    "\n",
    "23. **deposit_type**: Categórica. Tipo de depósito realizado. La mayoría de las reservas se realizaron sin depósito (No Deposit: 104,641 registros).\n",
    "\n",
    "24. **agent**: Numérica. ID del agente que realizó la reserva.\n",
    "\n",
    "25. **company**: Numérica. ID de la empresa asociada a la reserva.\n",
    "\n",
    "26. **days_in_waiting_list**: Numérica. Número de días en la lista de espera.\n",
    "\n",
    "27. **customer_type**: Categórica. Tipo de cliente (transitorios, repetidos, etc.). La mayoría de los clientes son transitorios (Transient: 89,613 registros).\n",
    "\n",
    "28. **adr**: Numérica. Tarifa diaria promedio.\n",
    "\n",
    "29. **required_car_parking_spaces**: Numérica. Número de plazas de aparcamiento requeridas.\n",
    "\n",
    "30. **total_of_special_requests**: Numérica. Número de peticiones especiales realizadas.\n",
    "\n",
    "31. **reservation_status**: Categórica. Estado de la reserva (cancelada, check-out, etc.). La mayoría de las reservas están marcadas como check-out (75,166 registros).\n",
    "\n",
    "32. **reservation_status_date**: Categórica. Fecha en la que se actualizó el estado de la reserva."
   ]
  },
  {
   "cell_type": "code",
   "execution_count": 6,
   "id": "40984e99",
   "metadata": {
    "execution": {
     "iopub.execute_input": "2024-06-21T16:02:40.297702Z",
     "iopub.status.busy": "2024-06-21T16:02:40.297323Z",
     "iopub.status.idle": "2024-06-21T16:02:40.659608Z",
     "shell.execute_reply": "2024-06-21T16:02:40.658594Z"
    },
    "papermill": {
     "duration": 0.369332,
     "end_time": "2024-06-21T16:02:40.662050",
     "exception": false,
     "start_time": "2024-06-21T16:02:40.292718",
     "status": "completed"
    },
    "tags": []
   },
   "outputs": [
    {
     "data": {
      "text/plain": [
       "<Axes: xlabel='hotel'>"
      ]
     },
     "execution_count": 6,
     "metadata": {},
     "output_type": "execute_result"
    },
    {
     "data": {
      "image/png": "[encoded data removed]",
      "text/plain": [
       "<Figure size 640x480 with 1 Axes>"
      ]
     },
     "metadata": {},
     "output_type": "display_data"
    }
   ],
   "source": [
    "df_booking_hotels.hotel.value_counts().plot(kind='bar')"
   ]
  },
  {
   "cell_type": "code",
   "execution_count": 7,
   "id": "46a21ad5",
   "metadata": {
    "execution": {
     "iopub.execute_input": "2024-06-21T16:02:40.672024Z",
     "iopub.status.busy": "2024-06-21T16:02:40.671655Z",
     "iopub.status.idle": "2024-06-21T16:02:40.890376Z",
     "shell.execute_reply": "2024-06-21T16:02:40.889321Z"
    },
    "papermill": {
     "duration": 0.226394,
     "end_time": "2024-06-21T16:02:40.892658",
     "exception": false,
     "start_time": "2024-06-21T16:02:40.666264",
     "status": "completed"
    },
    "tags": []
   },
   "outputs": [
    {
     "data": {
      "text/plain": [
       "<Axes: xlabel='meal'>"
      ]
     },
     "execution_count": 7,
     "metadata": {},
     "output_type": "execute_result"
    },
    {
     "data": {
      "image/png": "[encoded data removed]",
      "text/plain": [
       "<Figure size 640x480 with 1 Axes>"
      ]
     },
     "metadata": {},
     "output_type": "display_data"
    }
   ],
   "source": [
    "df_booking_hotels.meal.value_counts().plot(kind='bar')"
   ]
  }
 ],
 "metadata": {
  "kaggle": {
   "accelerator": "none",
   "dataSources": [
    {
     "datasetId": 511638,
     "sourceId": 944030,
     "sourceType": "datasetVersion"
    }
   ],
   "dockerImageVersionId": 30558,
   "isGpuEnabled": false,
   "isInternetEnabled": false,
   "language": "python",
   "sourceType": "notebook"
  },
  "kernelspec": {
   "display_name": "Python 3",
   "language": "python",
   "name": "python3"
  },
  "language_info": {
   "codemirror_mode": {
    "name": "ipython",
    "version": 3
   },
   "file_extension": ".py",
   "mimetype": "text/x-python",
   "name": "python",
   "nbconvert_exporter": "python",
   "pygments_lexer": "ipython3",
   "version": "3.10.12"
  },
  "papermill": {
   "default_parameters": {},
   "duration": 9.405352,
   "end_time": "2024-06-21T16:02:41.617765",
   "environment_variables": {},
   "exception": null,
   "input_path": "__notebook__.ipynb",
   "output_path": "__notebook__.ipynb",
   "parameters": {},
   "start_time": "2024-06-21T16:02:32.212413",
   "version": "2.4.0"
  }
 },
 "nbformat": 4,
 "nbformat_minor": 5
}
