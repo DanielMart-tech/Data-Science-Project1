{
 "cells": [
  {
   "cell_type": "markdown",
   "id": "a20e31de",
   "metadata": {},
   "source": [
    "# Data Science Project: Football Results Between 1872-2017"
   ]
  },
  {
   "cell_type": "markdown",
   "id": "bac3e35b",
   "metadata": {},
   "source": [
    "This is a statiscal analysis of football matches between 1872 and 2017\n",
    "\n",
    "Source: [Resultados de futbol entre 1872 y 2017](https://www.kaggle.com/ramnquintana/resultados-de-futbol-entre-1872-y-2017/version/1)"
   ]
  },
  {
   "cell_type": "markdown",
   "id": "3bcab003",
   "metadata": {},
   "source": [
    "#### Members:\n",
    "_____Matute\n",
    "\n",
    "Daniel Martínez"
   ]
  },
  {
   "cell_type": "code",
   "execution_count": 1,
   "id": "36223d1e",
   "metadata": {},
   "outputs": [],
   "source": [
    "import pandas as pd\n",
    "import numpy as np"
   ]
  },
  {
   "cell_type": "code",
   "execution_count": 2,
   "id": "dc09b874",
   "metadata": {
    "scrolled": true
   },
   "outputs": [
    {
     "data": {
      "text/html": [
       "<div>\n",
       "<style scoped>\n",
       "    .dataframe tbody tr th:only-of-type {\n",
       "        vertical-align: middle;\n",
       "    }\n",
       "\n",
       "    .dataframe tbody tr th {\n",
       "        vertical-align: top;\n",
       "    }\n",
       "\n",
       "    .dataframe thead th {\n",
       "        text-align: right;\n",
       "    }\n",
       "</style>\n",
       "<table border=\"1\" class=\"dataframe\">\n",
       "  <thead>\n",
       "    <tr style=\"text-align: right;\">\n",
       "      <th></th>\n",
       "      <th>date</th>\n",
       "      <th>home_team</th>\n",
       "      <th>away_team</th>\n",
       "      <th>home_score</th>\n",
       "      <th>away_score</th>\n",
       "      <th>tournament</th>\n",
       "      <th>city</th>\n",
       "      <th>country</th>\n",
       "      <th>neutral</th>\n",
       "    </tr>\n",
       "  </thead>\n",
       "  <tbody>\n",
       "    <tr>\n",
       "      <th>0</th>\n",
       "      <td>1872-11-30</td>\n",
       "      <td>Scotland</td>\n",
       "      <td>England</td>\n",
       "      <td>0</td>\n",
       "      <td>0</td>\n",
       "      <td>Friendly</td>\n",
       "      <td>Glasgow</td>\n",
       "      <td>Scotland</td>\n",
       "      <td>False</td>\n",
       "    </tr>\n",
       "    <tr>\n",
       "      <th>1</th>\n",
       "      <td>1873-03-08</td>\n",
       "      <td>England</td>\n",
       "      <td>Scotland</td>\n",
       "      <td>4</td>\n",
       "      <td>2</td>\n",
       "      <td>Friendly</td>\n",
       "      <td>London</td>\n",
       "      <td>England</td>\n",
       "      <td>False</td>\n",
       "    </tr>\n",
       "    <tr>\n",
       "      <th>2</th>\n",
       "      <td>1874-03-07</td>\n",
       "      <td>Scotland</td>\n",
       "      <td>England</td>\n",
       "      <td>2</td>\n",
       "      <td>1</td>\n",
       "      <td>Friendly</td>\n",
       "      <td>Glasgow</td>\n",
       "      <td>Scotland</td>\n",
       "      <td>False</td>\n",
       "    </tr>\n",
       "    <tr>\n",
       "      <th>3</th>\n",
       "      <td>1875-03-06</td>\n",
       "      <td>England</td>\n",
       "      <td>Scotland</td>\n",
       "      <td>2</td>\n",
       "      <td>2</td>\n",
       "      <td>Friendly</td>\n",
       "      <td>London</td>\n",
       "      <td>England</td>\n",
       "      <td>False</td>\n",
       "    </tr>\n",
       "    <tr>\n",
       "      <th>4</th>\n",
       "      <td>1876-03-04</td>\n",
       "      <td>Scotland</td>\n",
       "      <td>England</td>\n",
       "      <td>3</td>\n",
       "      <td>0</td>\n",
       "      <td>Friendly</td>\n",
       "      <td>Glasgow</td>\n",
       "      <td>Scotland</td>\n",
       "      <td>False</td>\n",
       "    </tr>\n",
       "    <tr>\n",
       "      <th>...</th>\n",
       "      <td>...</td>\n",
       "      <td>...</td>\n",
       "      <td>...</td>\n",
       "      <td>...</td>\n",
       "      <td>...</td>\n",
       "      <td>...</td>\n",
       "      <td>...</td>\n",
       "      <td>...</td>\n",
       "      <td>...</td>\n",
       "    </tr>\n",
       "    <tr>\n",
       "      <th>41238</th>\n",
       "      <td>2019-10-20</td>\n",
       "      <td>Lesotho</td>\n",
       "      <td>Zimbabwe</td>\n",
       "      <td>0</td>\n",
       "      <td>0</td>\n",
       "      <td>African Nations Championship qualifying</td>\n",
       "      <td>Lesotho</td>\n",
       "      <td>Lesotho</td>\n",
       "      <td>False</td>\n",
       "    </tr>\n",
       "    <tr>\n",
       "      <th>41239</th>\n",
       "      <td>2019-10-20</td>\n",
       "      <td>Guinea</td>\n",
       "      <td>Senegal</td>\n",
       "      <td>1</td>\n",
       "      <td>0</td>\n",
       "      <td>African Nations Championship qualifying</td>\n",
       "      <td>Conakry</td>\n",
       "      <td>Guinea</td>\n",
       "      <td>False</td>\n",
       "    </tr>\n",
       "    <tr>\n",
       "      <th>41240</th>\n",
       "      <td>2019-10-20</td>\n",
       "      <td>Mali</td>\n",
       "      <td>Mauritania</td>\n",
       "      <td>2</td>\n",
       "      <td>0</td>\n",
       "      <td>African Nations Championship qualifying</td>\n",
       "      <td>Mali</td>\n",
       "      <td>Mali</td>\n",
       "      <td>False</td>\n",
       "    </tr>\n",
       "    <tr>\n",
       "      <th>41241</th>\n",
       "      <td>2019-10-20</td>\n",
       "      <td>Burkina Faso</td>\n",
       "      <td>Ghana</td>\n",
       "      <td>0</td>\n",
       "      <td>0</td>\n",
       "      <td>African Nations Championship qualifying</td>\n",
       "      <td>Burkina Faso</td>\n",
       "      <td>Burkina Faso</td>\n",
       "      <td>False</td>\n",
       "    </tr>\n",
       "    <tr>\n",
       "      <th>41242</th>\n",
       "      <td>2019-10-20</td>\n",
       "      <td>Ivory Coast</td>\n",
       "      <td>Niger</td>\n",
       "      <td>1</td>\n",
       "      <td>0</td>\n",
       "      <td>African Nations Championship qualifying</td>\n",
       "      <td>Ivory Coast</td>\n",
       "      <td>Ivory Coast</td>\n",
       "      <td>False</td>\n",
       "    </tr>\n",
       "  </tbody>\n",
       "</table>\n",
       "<p>41243 rows × 9 columns</p>\n",
       "</div>"
      ],
      "text/plain": [
       "             date     home_team   away_team  home_score  away_score  \\\n",
       "0      1872-11-30      Scotland     England           0           0   \n",
       "1      1873-03-08       England    Scotland           4           2   \n",
       "2      1874-03-07      Scotland     England           2           1   \n",
       "3      1875-03-06       England    Scotland           2           2   \n",
       "4      1876-03-04      Scotland     England           3           0   \n",
       "...           ...           ...         ...         ...         ...   \n",
       "41238  2019-10-20       Lesotho    Zimbabwe           0           0   \n",
       "41239  2019-10-20        Guinea     Senegal           1           0   \n",
       "41240  2019-10-20          Mali  Mauritania           2           0   \n",
       "41241  2019-10-20  Burkina Faso       Ghana           0           0   \n",
       "41242  2019-10-20   Ivory Coast       Niger           1           0   \n",
       "\n",
       "                                    tournament          city       country  \\\n",
       "0                                     Friendly       Glasgow      Scotland   \n",
       "1                                     Friendly        London       England   \n",
       "2                                     Friendly       Glasgow      Scotland   \n",
       "3                                     Friendly        London       England   \n",
       "4                                     Friendly       Glasgow      Scotland   \n",
       "...                                        ...           ...           ...   \n",
       "41238  African Nations Championship qualifying       Lesotho       Lesotho   \n",
       "41239  African Nations Championship qualifying       Conakry        Guinea   \n",
       "41240  African Nations Championship qualifying          Mali          Mali   \n",
       "41241  African Nations Championship qualifying  Burkina Faso  Burkina Faso   \n",
       "41242  African Nations Championship qualifying   Ivory Coast   Ivory Coast   \n",
       "\n",
       "       neutral  \n",
       "0        False  \n",
       "1        False  \n",
       "2        False  \n",
       "3        False  \n",
       "4        False  \n",
       "...        ...  \n",
       "41238    False  \n",
       "41239    False  \n",
       "41240    False  \n",
       "41241    False  \n",
       "41242    False  \n",
       "\n",
       "[41243 rows x 9 columns]"
      ]
     },
     "execution_count": 2,
     "metadata": {},
     "output_type": "execute_result"
    }
   ],
   "source": [
    "football_data = pd.read_csv(\"results.csv\")\n",
    "football_data"
   ]
  },
  {
   "cell_type": "code",
   "execution_count": 3,
   "id": "cbebedef",
   "metadata": {
    "scrolled": false
   },
   "outputs": [
    {
     "data": {
      "text/plain": [
       "0        0\n",
       "1        4\n",
       "2        2\n",
       "3        2\n",
       "4        3\n",
       "        ..\n",
       "41238    0\n",
       "41239    1\n",
       "41240    2\n",
       "41241    0\n",
       "41242    1\n",
       "Name: home_score, Length: 41243, dtype: int64"
      ]
     },
     "execution_count": 3,
     "metadata": {},
     "output_type": "execute_result"
    }
   ],
   "source": [
    "football_data[\"home_score\"]"
   ]
  },
  {
   "cell_type": "code",
   "execution_count": 4,
   "id": "ac1a9409",
   "metadata": {},
   "outputs": [
    {
     "data": {
      "text/plain": [
       "0        0\n",
       "1        2\n",
       "2        1\n",
       "3        2\n",
       "4        0\n",
       "        ..\n",
       "41238    0\n",
       "41239    0\n",
       "41240    0\n",
       "41241    0\n",
       "41242    0\n",
       "Name: away_score, Length: 41243, dtype: int64"
      ]
     },
     "execution_count": 4,
     "metadata": {},
     "output_type": "execute_result"
    }
   ],
   "source": [
    "football_data[\"away_score\"]"
   ]
  },
  {
   "cell_type": "code",
   "execution_count": 5,
   "id": "21584968",
   "metadata": {},
   "outputs": [
    {
     "name": "stdout",
     "output_type": "stream",
     "text": [
      "[0 4 2 ... 2 0 1]\n"
     ]
    }
   ],
   "source": [
    "home = np.array(football_data[\"home_score\"])\n",
    "print(home)"
   ]
  },
  {
   "cell_type": "code",
   "execution_count": 6,
   "id": "d023c409",
   "metadata": {},
   "outputs": [
    {
     "name": "stdout",
     "output_type": "stream",
     "text": [
      "[0 2 1 ... 0 0 0]\n"
     ]
    }
   ],
   "source": [
    "away = np.array(football_data[\"away_score\"])\n",
    "print(away)"
   ]
  },
  {
   "cell_type": "markdown",
   "id": "7128629e",
   "metadata": {},
   "source": [
    "### Mean"
   ]
  },
  {
   "cell_type": "markdown",
   "id": "9f2b7546",
   "metadata": {},
   "source": [
    "#### Home Score Mean"
   ]
  },
  {
   "cell_type": "code",
   "execution_count": 7,
   "id": "ac341d42",
   "metadata": {
    "scrolled": true
   },
   "outputs": [
    {
     "data": {
      "text/plain": [
       "1.744974904832335"
      ]
     },
     "execution_count": 7,
     "metadata": {},
     "output_type": "execute_result"
    }
   ],
   "source": [
    "home_mean = np.mean(home)\n",
    "home_mean"
   ]
  },
  {
   "cell_type": "markdown",
   "id": "3ba53705",
   "metadata": {},
   "source": [
    "#### Away Score Mean"
   ]
  },
  {
   "cell_type": "code",
   "execution_count": 8,
   "id": "ecb181bd",
   "metadata": {},
   "outputs": [
    {
     "data": {
      "text/plain": [
       "1.1893169750018184"
      ]
     },
     "execution_count": 8,
     "metadata": {},
     "output_type": "execute_result"
    }
   ],
   "source": [
    "away_mean = np.mean(away)\n",
    "away_mean"
   ]
  },
  {
   "cell_type": "markdown",
   "id": "1819ea74",
   "metadata": {},
   "source": [
    "### Median"
   ]
  },
  {
   "cell_type": "markdown",
   "id": "aa3c93c2",
   "metadata": {},
   "source": [
    "#### Home Score Median"
   ]
  },
  {
   "cell_type": "code",
   "execution_count": 9,
   "id": "5e08e0d5",
   "metadata": {},
   "outputs": [
    {
     "data": {
      "text/plain": [
       "1.0"
      ]
     },
     "execution_count": 9,
     "metadata": {},
     "output_type": "execute_result"
    }
   ],
   "source": [
    "home_median = np.median(home)\n",
    "home_median"
   ]
  },
  {
   "cell_type": "markdown",
   "id": "527a1c0e",
   "metadata": {},
   "source": [
    "#### Away Score Median"
   ]
  },
  {
   "cell_type": "code",
   "execution_count": 10,
   "id": "a219518f",
   "metadata": {},
   "outputs": [
    {
     "data": {
      "text/plain": [
       "1.0"
      ]
     },
     "execution_count": 10,
     "metadata": {},
     "output_type": "execute_result"
    }
   ],
   "source": [
    "away_median = np.median(away)\n",
    "away_median"
   ]
  },
  {
   "cell_type": "markdown",
   "id": "ac03a8ef",
   "metadata": {},
   "source": [
    "### Mode"
   ]
  },
  {
   "cell_type": "markdown",
   "id": "84243aed",
   "metadata": {},
   "source": [
    "#### Home Score Mode"
   ]
  },
  {
   "cell_type": "markdown",
   "id": "2f3ed188",
   "metadata": {},
   "source": [
    "#### Away Score Mode"
   ]
  },
  {
   "cell_type": "markdown",
   "id": "d7c5e833",
   "metadata": {},
   "source": [
    "### Max Home Score"
   ]
  },
  {
   "cell_type": "code",
   "execution_count": 11,
   "id": "8c748d8a",
   "metadata": {},
   "outputs": [
    {
     "data": {
      "text/plain": [
       "31"
      ]
     },
     "execution_count": 11,
     "metadata": {},
     "output_type": "execute_result"
    }
   ],
   "source": [
    "home.max()"
   ]
  },
  {
   "cell_type": "markdown",
   "id": "c0bdd583",
   "metadata": {},
   "source": [
    "### Min Away Score"
   ]
  },
  {
   "cell_type": "code",
   "execution_count": 12,
   "id": "04ba1d42",
   "metadata": {},
   "outputs": [
    {
     "data": {
      "text/plain": [
       "21"
      ]
     },
     "execution_count": 12,
     "metadata": {},
     "output_type": "execute_result"
    }
   ],
   "source": [
    "away.max()"
   ]
  },
  {
   "cell_type": "markdown",
   "id": "80d985dd",
   "metadata": {},
   "source": [
    "### Group By"
   ]
  },
  {
   "cell_type": "code",
   "execution_count": 13,
   "id": "34a2033c",
   "metadata": {},
   "outputs": [
    {
     "data": {
      "text/html": [
       "<div>\n",
       "<style scoped>\n",
       "    .dataframe tbody tr th:only-of-type {\n",
       "        vertical-align: middle;\n",
       "    }\n",
       "\n",
       "    .dataframe tbody tr th {\n",
       "        vertical-align: top;\n",
       "    }\n",
       "\n",
       "    .dataframe thead th {\n",
       "        text-align: right;\n",
       "    }\n",
       "</style>\n",
       "<table border=\"1\" class=\"dataframe\">\n",
       "  <thead>\n",
       "    <tr style=\"text-align: right;\">\n",
       "      <th></th>\n",
       "      <th>date</th>\n",
       "      <th>away_team</th>\n",
       "      <th>home_score</th>\n",
       "      <th>away_score</th>\n",
       "      <th>tournament</th>\n",
       "      <th>city</th>\n",
       "      <th>country</th>\n",
       "      <th>neutral</th>\n",
       "    </tr>\n",
       "    <tr>\n",
       "      <th>home_team</th>\n",
       "      <th></th>\n",
       "      <th></th>\n",
       "      <th></th>\n",
       "      <th></th>\n",
       "      <th></th>\n",
       "      <th></th>\n",
       "      <th></th>\n",
       "      <th></th>\n",
       "    </tr>\n",
       "  </thead>\n",
       "  <tbody>\n",
       "    <tr>\n",
       "      <th>Abkhazia</th>\n",
       "      <td>2019-06-08</td>\n",
       "      <td>Western Armenia</td>\n",
       "      <td>9</td>\n",
       "      <td>2</td>\n",
       "      <td>Friendly</td>\n",
       "      <td>Östersund</td>\n",
       "      <td>Sweden</td>\n",
       "      <td>True</td>\n",
       "    </tr>\n",
       "    <tr>\n",
       "      <th>Afghanistan</th>\n",
       "      <td>2018-12-25</td>\n",
       "      <td>Vietnam</td>\n",
       "      <td>5</td>\n",
       "      <td>6</td>\n",
       "      <td>SAFF Cup</td>\n",
       "      <td>al-Wakrah</td>\n",
       "      <td>United Arab Emirates</td>\n",
       "      <td>True</td>\n",
       "    </tr>\n",
       "    <tr>\n",
       "      <th>Albania</th>\n",
       "      <td>2019-09-10</td>\n",
       "      <td>Yugoslavia</td>\n",
       "      <td>6</td>\n",
       "      <td>5</td>\n",
       "      <td>UEFA Nations League</td>\n",
       "      <td>Évian-les-Bains</td>\n",
       "      <td>Turkey</td>\n",
       "      <td>True</td>\n",
       "    </tr>\n",
       "    <tr>\n",
       "      <th>Alderney</th>\n",
       "      <td>2019-06-16</td>\n",
       "      <td>Ynys Môn</td>\n",
       "      <td>2</td>\n",
       "      <td>6</td>\n",
       "      <td>Island Games</td>\n",
       "      <td>Väskinde</td>\n",
       "      <td>Wales</td>\n",
       "      <td>True</td>\n",
       "    </tr>\n",
       "    <tr>\n",
       "      <th>Algeria</th>\n",
       "      <td>2019-10-15</td>\n",
       "      <td>Zimbabwe</td>\n",
       "      <td>15</td>\n",
       "      <td>5</td>\n",
       "      <td>UAFA Cup</td>\n",
       "      <td>Ziguinchor</td>\n",
       "      <td>Tunisia</td>\n",
       "      <td>True</td>\n",
       "    </tr>\n",
       "    <tr>\n",
       "      <th>...</th>\n",
       "      <td>...</td>\n",
       "      <td>...</td>\n",
       "      <td>...</td>\n",
       "      <td>...</td>\n",
       "      <td>...</td>\n",
       "      <td>...</td>\n",
       "      <td>...</td>\n",
       "      <td>...</td>\n",
       "    </tr>\n",
       "    <tr>\n",
       "      <th>Yugoslavia</th>\n",
       "      <td>1991-05-16</td>\n",
       "      <td>Wales</td>\n",
       "      <td>9</td>\n",
       "      <td>6</td>\n",
       "      <td>UEFA Euro qualification</td>\n",
       "      <td>Zenica</td>\n",
       "      <td>Yugoslavia</td>\n",
       "      <td>True</td>\n",
       "    </tr>\n",
       "    <tr>\n",
       "      <th>Zambia</th>\n",
       "      <td>2019-10-19</td>\n",
       "      <td>Zimbabwe</td>\n",
       "      <td>11</td>\n",
       "      <td>5</td>\n",
       "      <td>Simba Tournament</td>\n",
       "      <td>Zomba</td>\n",
       "      <td>Zimbabwe</td>\n",
       "      <td>True</td>\n",
       "    </tr>\n",
       "    <tr>\n",
       "      <th>Zanzibar</th>\n",
       "      <td>2017-12-05</td>\n",
       "      <td>Zimbabwe</td>\n",
       "      <td>6</td>\n",
       "      <td>7</td>\n",
       "      <td>Viva World Cup</td>\n",
       "      <td>Zanzibar Town</td>\n",
       "      <td>Zanzibar</td>\n",
       "      <td>True</td>\n",
       "    </tr>\n",
       "    <tr>\n",
       "      <th>Zimbabwe</th>\n",
       "      <td>2019-09-22</td>\n",
       "      <td>Zambia</td>\n",
       "      <td>6</td>\n",
       "      <td>5</td>\n",
       "      <td>Friendly</td>\n",
       "      <td>Windhoek</td>\n",
       "      <td>Zimbabwe</td>\n",
       "      <td>True</td>\n",
       "    </tr>\n",
       "    <tr>\n",
       "      <th>Åland Islands</th>\n",
       "      <td>2017-06-27</td>\n",
       "      <td>Ynys Môn</td>\n",
       "      <td>4</td>\n",
       "      <td>5</td>\n",
       "      <td>Island Games</td>\n",
       "      <td>Åland</td>\n",
       "      <td>Sweden</td>\n",
       "      <td>True</td>\n",
       "    </tr>\n",
       "  </tbody>\n",
       "</table>\n",
       "<p>310 rows × 8 columns</p>\n",
       "</div>"
      ],
      "text/plain": [
       "                     date        away_team  home_score  away_score  \\\n",
       "home_team                                                            \n",
       "Abkhazia       2019-06-08  Western Armenia           9           2   \n",
       "Afghanistan    2018-12-25          Vietnam           5           6   \n",
       "Albania        2019-09-10       Yugoslavia           6           5   \n",
       "Alderney       2019-06-16         Ynys Môn           2           6   \n",
       "Algeria        2019-10-15         Zimbabwe          15           5   \n",
       "...                   ...              ...         ...         ...   \n",
       "Yugoslavia     1991-05-16            Wales           9           6   \n",
       "Zambia         2019-10-19         Zimbabwe          11           5   \n",
       "Zanzibar       2017-12-05         Zimbabwe           6           7   \n",
       "Zimbabwe       2019-09-22           Zambia           6           5   \n",
       "Åland Islands  2017-06-27         Ynys Môn           4           5   \n",
       "\n",
       "                            tournament             city               country  \\\n",
       "home_team                                                                       \n",
       "Abkhazia                      Friendly        Östersund                Sweden   \n",
       "Afghanistan                   SAFF Cup        al-Wakrah  United Arab Emirates   \n",
       "Albania            UEFA Nations League  Évian-les-Bains                Turkey   \n",
       "Alderney                  Island Games         Väskinde                 Wales   \n",
       "Algeria                       UAFA Cup       Ziguinchor               Tunisia   \n",
       "...                                ...              ...                   ...   \n",
       "Yugoslavia     UEFA Euro qualification           Zenica            Yugoslavia   \n",
       "Zambia                Simba Tournament            Zomba              Zimbabwe   \n",
       "Zanzibar                Viva World Cup    Zanzibar Town              Zanzibar   \n",
       "Zimbabwe                      Friendly         Windhoek              Zimbabwe   \n",
       "Åland Islands             Island Games            Åland                Sweden   \n",
       "\n",
       "               neutral  \n",
       "home_team               \n",
       "Abkhazia          True  \n",
       "Afghanistan       True  \n",
       "Albania           True  \n",
       "Alderney          True  \n",
       "Algeria           True  \n",
       "...                ...  \n",
       "Yugoslavia        True  \n",
       "Zambia            True  \n",
       "Zanzibar          True  \n",
       "Zimbabwe          True  \n",
       "Åland Islands     True  \n",
       "\n",
       "[310 rows x 8 columns]"
      ]
     },
     "execution_count": 13,
     "metadata": {},
     "output_type": "execute_result"
    }
   ],
   "source": [
    "football_data.groupby(\"home_team\").max()"
   ]
  },
  {
   "cell_type": "code",
   "execution_count": 14,
   "id": "9bc0d44d",
   "metadata": {},
   "outputs": [
    {
     "data": {
      "text/html": [
       "<div>\n",
       "<style scoped>\n",
       "    .dataframe tbody tr th:only-of-type {\n",
       "        vertical-align: middle;\n",
       "    }\n",
       "\n",
       "    .dataframe tbody tr th {\n",
       "        vertical-align: top;\n",
       "    }\n",
       "\n",
       "    .dataframe thead th {\n",
       "        text-align: right;\n",
       "    }\n",
       "</style>\n",
       "<table border=\"1\" class=\"dataframe\">\n",
       "  <thead>\n",
       "    <tr style=\"text-align: right;\">\n",
       "      <th></th>\n",
       "      <th>date</th>\n",
       "      <th>home_team</th>\n",
       "      <th>home_score</th>\n",
       "      <th>away_score</th>\n",
       "      <th>tournament</th>\n",
       "      <th>city</th>\n",
       "      <th>country</th>\n",
       "      <th>neutral</th>\n",
       "    </tr>\n",
       "    <tr>\n",
       "      <th>away_team</th>\n",
       "      <th></th>\n",
       "      <th></th>\n",
       "      <th></th>\n",
       "      <th></th>\n",
       "      <th></th>\n",
       "      <th></th>\n",
       "      <th></th>\n",
       "      <th></th>\n",
       "    </tr>\n",
       "  </thead>\n",
       "  <tbody>\n",
       "    <tr>\n",
       "      <th>Abkhazia</th>\n",
       "      <td>2019-06-04</td>\n",
       "      <td>Sápmi</td>\n",
       "      <td>3</td>\n",
       "      <td>3</td>\n",
       "      <td>Friendly</td>\n",
       "      <td>Östersund</td>\n",
       "      <td>Sweden</td>\n",
       "      <td>True</td>\n",
       "    </tr>\n",
       "    <tr>\n",
       "      <th>Afghanistan</th>\n",
       "      <td>2019-06-06</td>\n",
       "      <td>Vietnam</td>\n",
       "      <td>11</td>\n",
       "      <td>8</td>\n",
       "      <td>SAFF Cup</td>\n",
       "      <td>al-Ramm</td>\n",
       "      <td>Vietnam</td>\n",
       "      <td>True</td>\n",
       "    </tr>\n",
       "    <tr>\n",
       "      <th>Albania</th>\n",
       "      <td>2019-10-14</td>\n",
       "      <td>Yugoslavia</td>\n",
       "      <td>12</td>\n",
       "      <td>4</td>\n",
       "      <td>UEFA Nations League</td>\n",
       "      <td>Zenica</td>\n",
       "      <td>Yugoslavia</td>\n",
       "      <td>True</td>\n",
       "    </tr>\n",
       "    <tr>\n",
       "      <th>Alderney</th>\n",
       "      <td>2019-06-20</td>\n",
       "      <td>Saare County</td>\n",
       "      <td>7</td>\n",
       "      <td>3</td>\n",
       "      <td>Island Games</td>\n",
       "      <td>Säve</td>\n",
       "      <td>Wales</td>\n",
       "      <td>True</td>\n",
       "    </tr>\n",
       "    <tr>\n",
       "      <th>Algeria</th>\n",
       "      <td>2019-10-19</td>\n",
       "      <td>Zimbabwe</td>\n",
       "      <td>5</td>\n",
       "      <td>4</td>\n",
       "      <td>UAFA Cup</td>\n",
       "      <td>Örebro</td>\n",
       "      <td>Zimbabwe</td>\n",
       "      <td>True</td>\n",
       "    </tr>\n",
       "    <tr>\n",
       "      <th>...</th>\n",
       "      <td>...</td>\n",
       "      <td>...</td>\n",
       "      <td>...</td>\n",
       "      <td>...</td>\n",
       "      <td>...</td>\n",
       "      <td>...</td>\n",
       "      <td>...</td>\n",
       "      <td>...</td>\n",
       "    </tr>\n",
       "    <tr>\n",
       "      <th>Yugoslavia</th>\n",
       "      <td>1999-12-23</td>\n",
       "      <td>Wales</td>\n",
       "      <td>7</td>\n",
       "      <td>10</td>\n",
       "      <td>UEFA Euro qualification</td>\n",
       "      <td>Łódź</td>\n",
       "      <td>Wales</td>\n",
       "      <td>True</td>\n",
       "    </tr>\n",
       "    <tr>\n",
       "      <th>Zambia</th>\n",
       "      <td>2019-10-13</td>\n",
       "      <td>Zimbabwe</td>\n",
       "      <td>10</td>\n",
       "      <td>9</td>\n",
       "      <td>Simba Tournament</td>\n",
       "      <td>al-Wakrah</td>\n",
       "      <td>Zimbabwe</td>\n",
       "      <td>True</td>\n",
       "    </tr>\n",
       "    <tr>\n",
       "      <th>Zanzibar</th>\n",
       "      <td>2017-12-17</td>\n",
       "      <td>Zambia</td>\n",
       "      <td>10</td>\n",
       "      <td>7</td>\n",
       "      <td>Viva World Cup</td>\n",
       "      <td>Port Sudan</td>\n",
       "      <td>Zambia</td>\n",
       "      <td>True</td>\n",
       "    </tr>\n",
       "    <tr>\n",
       "      <th>Zimbabwe</th>\n",
       "      <td>2019-10-20</td>\n",
       "      <td>Zanzibar</td>\n",
       "      <td>7</td>\n",
       "      <td>7</td>\n",
       "      <td>Simba Tournament</td>\n",
       "      <td>Zomba</td>\n",
       "      <td>Zaïre</td>\n",
       "      <td>True</td>\n",
       "    </tr>\n",
       "    <tr>\n",
       "      <th>Åland Islands</th>\n",
       "      <td>2017-06-29</td>\n",
       "      <td>Ynys Môn</td>\n",
       "      <td>7</td>\n",
       "      <td>4</td>\n",
       "      <td>Island Games</td>\n",
       "      <td>Visby</td>\n",
       "      <td>Sweden</td>\n",
       "      <td>True</td>\n",
       "    </tr>\n",
       "  </tbody>\n",
       "</table>\n",
       "<p>307 rows × 8 columns</p>\n",
       "</div>"
      ],
      "text/plain": [
       "                     date     home_team  home_score  away_score  \\\n",
       "away_team                                                         \n",
       "Abkhazia       2019-06-04         Sápmi           3           3   \n",
       "Afghanistan    2019-06-06       Vietnam          11           8   \n",
       "Albania        2019-10-14    Yugoslavia          12           4   \n",
       "Alderney       2019-06-20  Saare County           7           3   \n",
       "Algeria        2019-10-19      Zimbabwe           5           4   \n",
       "...                   ...           ...         ...         ...   \n",
       "Yugoslavia     1999-12-23         Wales           7          10   \n",
       "Zambia         2019-10-13      Zimbabwe          10           9   \n",
       "Zanzibar       2017-12-17        Zambia          10           7   \n",
       "Zimbabwe       2019-10-20      Zanzibar           7           7   \n",
       "Åland Islands  2017-06-29      Ynys Môn           7           4   \n",
       "\n",
       "                            tournament        city     country  neutral  \n",
       "away_team                                                                \n",
       "Abkhazia                      Friendly   Östersund      Sweden     True  \n",
       "Afghanistan                   SAFF Cup     al-Ramm     Vietnam     True  \n",
       "Albania            UEFA Nations League      Zenica  Yugoslavia     True  \n",
       "Alderney                  Island Games        Säve       Wales     True  \n",
       "Algeria                       UAFA Cup      Örebro    Zimbabwe     True  \n",
       "...                                ...         ...         ...      ...  \n",
       "Yugoslavia     UEFA Euro qualification        Łódź       Wales     True  \n",
       "Zambia                Simba Tournament   al-Wakrah    Zimbabwe     True  \n",
       "Zanzibar                Viva World Cup  Port Sudan      Zambia     True  \n",
       "Zimbabwe              Simba Tournament       Zomba       Zaïre     True  \n",
       "Åland Islands             Island Games       Visby      Sweden     True  \n",
       "\n",
       "[307 rows x 8 columns]"
      ]
     },
     "execution_count": 14,
     "metadata": {},
     "output_type": "execute_result"
    }
   ],
   "source": [
    "football_data.groupby(\"away_team\").max()"
   ]
  },
  {
   "cell_type": "code",
   "execution_count": 15,
   "id": "872ad930",
   "metadata": {},
   "outputs": [
    {
     "data": {
      "text/plain": [
       "5"
      ]
     },
     "execution_count": 15,
     "metadata": {},
     "output_type": "execute_result"
    }
   ],
   "source": [
    "venezuela = football_data[(football_data[\"home_team\"] == \"Venezuela\")]\n",
    "venezuela[\"home_score\"].max()"
   ]
  },
  {
   "cell_type": "code",
   "execution_count": 16,
   "id": "3a9b2156",
   "metadata": {},
   "outputs": [
    {
     "data": {
      "text/html": [
       "<div>\n",
       "<style scoped>\n",
       "    .dataframe tbody tr th:only-of-type {\n",
       "        vertical-align: middle;\n",
       "    }\n",
       "\n",
       "    .dataframe tbody tr th {\n",
       "        vertical-align: top;\n",
       "    }\n",
       "\n",
       "    .dataframe thead th {\n",
       "        text-align: right;\n",
       "    }\n",
       "</style>\n",
       "<table border=\"1\" class=\"dataframe\">\n",
       "  <thead>\n",
       "    <tr style=\"text-align: right;\">\n",
       "      <th></th>\n",
       "      <th>date</th>\n",
       "      <th>home_team</th>\n",
       "      <th>away_team</th>\n",
       "      <th>home_score</th>\n",
       "      <th>away_score</th>\n",
       "      <th>tournament</th>\n",
       "      <th>city</th>\n",
       "      <th>country</th>\n",
       "      <th>neutral</th>\n",
       "    </tr>\n",
       "  </thead>\n",
       "  <tbody>\n",
       "    <tr>\n",
       "      <th>29098</th>\n",
       "      <td>2007-03-28</td>\n",
       "      <td>Venezuela</td>\n",
       "      <td>New Zealand</td>\n",
       "      <td>5</td>\n",
       "      <td>0</td>\n",
       "      <td>Friendly</td>\n",
       "      <td>Maracaibo</td>\n",
       "      <td>Venezuela</td>\n",
       "      <td>False</td>\n",
       "    </tr>\n",
       "    <tr>\n",
       "      <th>29767</th>\n",
       "      <td>2007-11-20</td>\n",
       "      <td>Venezuela</td>\n",
       "      <td>Bolivia</td>\n",
       "      <td>5</td>\n",
       "      <td>3</td>\n",
       "      <td>FIFA World Cup qualification</td>\n",
       "      <td>San Cristóbal</td>\n",
       "      <td>Venezuela</td>\n",
       "      <td>False</td>\n",
       "    </tr>\n",
       "    <tr>\n",
       "      <th>38424</th>\n",
       "      <td>2016-11-10</td>\n",
       "      <td>Venezuela</td>\n",
       "      <td>Bolivia</td>\n",
       "      <td>5</td>\n",
       "      <td>0</td>\n",
       "      <td>FIFA World Cup qualification</td>\n",
       "      <td>Maturín</td>\n",
       "      <td>Venezuela</td>\n",
       "      <td>False</td>\n",
       "    </tr>\n",
       "  </tbody>\n",
       "</table>\n",
       "</div>"
      ],
      "text/plain": [
       "             date  home_team    away_team  home_score  away_score  \\\n",
       "29098  2007-03-28  Venezuela  New Zealand           5           0   \n",
       "29767  2007-11-20  Venezuela      Bolivia           5           3   \n",
       "38424  2016-11-10  Venezuela      Bolivia           5           0   \n",
       "\n",
       "                         tournament           city    country  neutral  \n",
       "29098                      Friendly      Maracaibo  Venezuela    False  \n",
       "29767  FIFA World Cup qualification  San Cristóbal  Venezuela    False  \n",
       "38424  FIFA World Cup qualification        Maturín  Venezuela    False  "
      ]
     },
     "execution_count": 16,
     "metadata": {},
     "output_type": "execute_result"
    }
   ],
   "source": [
    "football_data[(football_data[\"home_team\"] == \"Venezuela\") & (football_data[\"home_score\"] == 5)]"
   ]
  },
  {
   "cell_type": "code",
   "execution_count": 17,
   "id": "a7b14ac4",
   "metadata": {},
   "outputs": [
    {
     "data": {
      "text/plain": [
       "12"
      ]
     },
     "execution_count": 17,
     "metadata": {},
     "output_type": "execute_result"
    }
   ],
   "source": [
    "argentina = football_data[(football_data[\"home_team\"] == \"Argentina\")]\n",
    "argentina[\"home_score\"].max()"
   ]
  },
  {
   "cell_type": "code",
   "execution_count": 18,
   "id": "acc4439c",
   "metadata": {},
   "outputs": [
    {
     "data": {
      "text/html": [
       "<div>\n",
       "<style scoped>\n",
       "    .dataframe tbody tr th:only-of-type {\n",
       "        vertical-align: middle;\n",
       "    }\n",
       "\n",
       "    .dataframe tbody tr th {\n",
       "        vertical-align: top;\n",
       "    }\n",
       "\n",
       "    .dataframe thead th {\n",
       "        text-align: right;\n",
       "    }\n",
       "</style>\n",
       "<table border=\"1\" class=\"dataframe\">\n",
       "  <thead>\n",
       "    <tr style=\"text-align: right;\">\n",
       "      <th></th>\n",
       "      <th>date</th>\n",
       "      <th>home_team</th>\n",
       "      <th>away_team</th>\n",
       "      <th>home_score</th>\n",
       "      <th>away_score</th>\n",
       "      <th>tournament</th>\n",
       "      <th>city</th>\n",
       "      <th>country</th>\n",
       "      <th>neutral</th>\n",
       "    </tr>\n",
       "  </thead>\n",
       "  <tbody>\n",
       "    <tr>\n",
       "      <th>2374</th>\n",
       "      <td>1942-01-22</td>\n",
       "      <td>Argentina</td>\n",
       "      <td>Ecuador</td>\n",
       "      <td>12</td>\n",
       "      <td>0</td>\n",
       "      <td>Copa América</td>\n",
       "      <td>Montevideo</td>\n",
       "      <td>Uruguay</td>\n",
       "      <td>True</td>\n",
       "    </tr>\n",
       "  </tbody>\n",
       "</table>\n",
       "</div>"
      ],
      "text/plain": [
       "            date  home_team away_team  home_score  away_score    tournament  \\\n",
       "2374  1942-01-22  Argentina   Ecuador          12           0  Copa América   \n",
       "\n",
       "            city  country  neutral  \n",
       "2374  Montevideo  Uruguay     True  "
      ]
     },
     "execution_count": 18,
     "metadata": {},
     "output_type": "execute_result"
    }
   ],
   "source": [
    "football_data[(football_data[\"home_team\"] == \"Argentina\") & (football_data[\"home_score\"] == 12)]"
   ]
  },
  {
   "cell_type": "markdown",
   "id": "54a21328",
   "metadata": {},
   "source": [
    "#### ideas"
   ]
  },
  {
   "cell_type": "code",
   "execution_count": 19,
   "id": "15ae8870",
   "metadata": {
    "scrolled": true
   },
   "outputs": [
    {
     "data": {
      "text/html": [
       "<div>\n",
       "<style scoped>\n",
       "    .dataframe tbody tr th:only-of-type {\n",
       "        vertical-align: middle;\n",
       "    }\n",
       "\n",
       "    .dataframe tbody tr th {\n",
       "        vertical-align: top;\n",
       "    }\n",
       "\n",
       "    .dataframe thead th {\n",
       "        text-align: right;\n",
       "    }\n",
       "</style>\n",
       "<table border=\"1\" class=\"dataframe\">\n",
       "  <thead>\n",
       "    <tr style=\"text-align: right;\">\n",
       "      <th></th>\n",
       "      <th>home_team</th>\n",
       "      <th>home_score</th>\n",
       "    </tr>\n",
       "  </thead>\n",
       "  <tbody>\n",
       "    <tr>\n",
       "      <th>0</th>\n",
       "      <td>Scotland</td>\n",
       "      <td>0</td>\n",
       "    </tr>\n",
       "    <tr>\n",
       "      <th>1</th>\n",
       "      <td>England</td>\n",
       "      <td>4</td>\n",
       "    </tr>\n",
       "    <tr>\n",
       "      <th>2</th>\n",
       "      <td>Scotland</td>\n",
       "      <td>2</td>\n",
       "    </tr>\n",
       "    <tr>\n",
       "      <th>3</th>\n",
       "      <td>England</td>\n",
       "      <td>2</td>\n",
       "    </tr>\n",
       "    <tr>\n",
       "      <th>4</th>\n",
       "      <td>Scotland</td>\n",
       "      <td>3</td>\n",
       "    </tr>\n",
       "    <tr>\n",
       "      <th>...</th>\n",
       "      <td>...</td>\n",
       "      <td>...</td>\n",
       "    </tr>\n",
       "    <tr>\n",
       "      <th>41238</th>\n",
       "      <td>Lesotho</td>\n",
       "      <td>0</td>\n",
       "    </tr>\n",
       "    <tr>\n",
       "      <th>41239</th>\n",
       "      <td>Guinea</td>\n",
       "      <td>1</td>\n",
       "    </tr>\n",
       "    <tr>\n",
       "      <th>41240</th>\n",
       "      <td>Mali</td>\n",
       "      <td>2</td>\n",
       "    </tr>\n",
       "    <tr>\n",
       "      <th>41241</th>\n",
       "      <td>Burkina Faso</td>\n",
       "      <td>0</td>\n",
       "    </tr>\n",
       "    <tr>\n",
       "      <th>41242</th>\n",
       "      <td>Ivory Coast</td>\n",
       "      <td>1</td>\n",
       "    </tr>\n",
       "  </tbody>\n",
       "</table>\n",
       "<p>41243 rows × 2 columns</p>\n",
       "</div>"
      ],
      "text/plain": [
       "          home_team  home_score\n",
       "0          Scotland           0\n",
       "1           England           4\n",
       "2          Scotland           2\n",
       "3           England           2\n",
       "4          Scotland           3\n",
       "...             ...         ...\n",
       "41238       Lesotho           0\n",
       "41239        Guinea           1\n",
       "41240          Mali           2\n",
       "41241  Burkina Faso           0\n",
       "41242   Ivory Coast           1\n",
       "\n",
       "[41243 rows x 2 columns]"
      ]
     },
     "execution_count": 19,
     "metadata": {},
     "output_type": "execute_result"
    }
   ],
   "source": [
    "football_data[[\"home_team\",\"home_score\"]]"
   ]
  },
  {
   "cell_type": "markdown",
   "id": "8f4e7b2c",
   "metadata": {},
   "source": [
    "mayor puntaje = equipo visitante y local\n",
    "\n",
    "media del home_score y del away_score\n",
    "\n",
    "mediana del home_score y del away_score\n",
    "\n",
    "moda del home_score y del away_score\n",
    "\n",
    "buscar info 1872 y 2017"
   ]
  },
  {
   "cell_type": "code",
   "execution_count": 20,
   "id": "08f766f9",
   "metadata": {},
   "outputs": [
    {
     "ename": "NameError",
     "evalue": "name 'data_frame' is not defined",
     "output_type": "error",
     "traceback": [
      "\u001b[0;31m---------------------------------------------------------------------------\u001b[0m",
      "\u001b[0;31mNameError\u001b[0m                                 Traceback (most recent call last)",
      "Input \u001b[0;32mIn [20]\u001b[0m, in \u001b[0;36m<module>\u001b[0;34m\u001b[0m\n\u001b[0;32m----> 1\u001b[0m data_frame[\u001b[38;5;124m'\u001b[39m\u001b[38;5;124mpuntaje_total\u001b[39m\u001b[38;5;124m'\u001b[39m] \u001b[38;5;241m=\u001b[39m (\u001b[43mdata_frame\u001b[49m[\u001b[38;5;124m'\u001b[39m\u001b[38;5;124mnum_sequences\u001b[39m\u001b[38;5;124m'\u001b[39m] \u001b[38;5;241m/\u001b[39m data_frame[\u001b[38;5;124m'\u001b[39m\u001b[38;5;124mnum_sequences_total\u001b[39m\u001b[38;5;124m'\u001b[39m]) \u001b[38;5;241m*\u001b[39m \u001b[38;5;241m100\u001b[39m\n",
      "\u001b[0;31mNameError\u001b[0m: name 'data_frame' is not defined"
     ]
    }
   ],
   "source": [
    "data_frame['puntaje_total'] = (data_frame['num_sequences'] / data_frame['num_sequences_total']) * 100\n"
   ]
  }
 ],
 "metadata": {
  "kernelspec": {
   "display_name": "Python 3 (ipykernel)",
   "language": "python",
   "name": "python3"
  },
  "language_info": {
   "codemirror_mode": {
    "name": "ipython",
    "version": 3
   },
   "file_extension": ".py",
   "mimetype": "text/x-python",
   "name": "python",
   "nbconvert_exporter": "python",
   "pygments_lexer": "ipython3",
   "version": "3.10.2"
  }
 },
 "nbformat": 4,
 "nbformat_minor": 5
}
